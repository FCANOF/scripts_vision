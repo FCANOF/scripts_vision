{
 "cells": [
  {
   "cell_type": "markdown",
   "metadata": {},
   "source": [
    "# Validación del modelo de Pose-Estimation - Yolov8n-pose\n",
    "En estas pruebas se busca validar la tasa de precisión del modelo a utilizar *yolov8n-pose* a través del framework *ultralytics* el cuál nos otorga funciones para obtener las salidas del modelo: boxes, keypoints, tracks ids, entre otros."
   ]
  },
  {
   "cell_type": "markdown",
   "metadata": {},
   "source": [
    "## Librerías\n"
   ]
  },
  {
   "cell_type": "code",
   "execution_count": null,
   "metadata": {},
   "outputs": [],
   "source": [
    "from ultralytics import YOLO\n",
    "import cv2\n",
    "import os\n",
    "import face_recognition\n",
    "import time\n",
    "import numpy as np\n",
    "from pydantic import BaseModel"
   ]
  },
  {
   "cell_type": "markdown",
   "metadata": {},
   "source": []
  }
 ],
 "metadata": {
  "language_info": {
   "name": "python"
  }
 },
 "nbformat": 4,
 "nbformat_minor": 2
}
